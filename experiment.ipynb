{
 "cells": [
  {
   "cell_type": "code",
   "execution_count": 1,
   "metadata": {},
   "outputs": [
    {
     "data": {
      "image/png": "[encoded data removed]",
      "text/plain": [
       "<matplotlib.figure.Figure at 0x167d4f69c88>"
      ]
     },
     "metadata": {},
     "output_type": "display_data"
    }
   ],
   "source": [
    "# -*- coding: utf-8 -*-\n",
    "\"\"\"\n",
    "Created on Wed Dec 27 01:31:06 2017\n",
    "\n",
    "@author: zax\n",
    "\"\"\"\n",
    "import numpy as np\n",
    "import random as rand\n",
    "import matplotlib.pyplot as plt\n",
    "\n",
    "def matrix_factorization(R, K, R_test, iterations = 15000, learning_rate = 0.04, lamda = 0.02, step = 200):\n",
    "    P = np.random.rand(R.shape[0], K)\n",
    "    Q = np.random.rand(K, R.shape[1])\n",
    "    p = np.zeros((943))\n",
    "    q = np.zeros((1682))\n",
    "    L_validation = np.zeros((int(iterations / step)))\n",
    "    u = 0\n",
    "    i = 0\n",
    "    for t in range(0, iterations):\n",
    "        while True:\n",
    "            u = rand.randint(0, 942)\n",
    "            i = rand.randint(0, 1681)\n",
    "            if R[u][i] > 0:\n",
    "                break\n",
    "            \n",
    "        eui = R[u][i] - np.dot(P[u, :], Q[:, i])\n",
    "        \n",
    "        P[u] = P[u] + learning_rate * (2 * eui * Q[:, i] - lamda * P[u])\n",
    "        Q[:, i] = Q[:, i] + learning_rate * (2 * eui * P[u] - lamda * Q[:, i])\n",
    "\n",
    "        if t % step == 0:\n",
    "            for u in range(0, 943):\n",
    "                p[u] = lamda * np.linalg.norm(P[u])**2\n",
    "                \n",
    "            for i in range(0, 1682):\n",
    "                q[i] = lamda * np.linalg.norm(Q[:, i])**2\n",
    "            \n",
    "            for u in range(0, 943):\n",
    "                for i in range(0, 1682):\n",
    "                    if R_test[u][i] > 0:\n",
    "                        L_validation[int(t / step)] += pow(R_test[u][i] - np.dot(P[u].T, Q[:, i]), 2) + p[u] + q[i]\n",
    "                        \n",
    "    return P, Q.T, L_validation\n",
    "          \n",
    "R_train = np.zeros((943, 1682))\n",
    "R_test = np.zeros((943, 1682))\n",
    "f_base = open('./ml-100k/u1.base', 'rb')\n",
    "f_test = open('./ml-100k/u1.test', 'rb')\n",
    "R_t = f_base.read().splitlines()\n",
    "R_s = f_test.read().splitlines()\n",
    "\n",
    "for i in range(0, 80000):\n",
    "    a = R_t[i].split(\"\\t\".encode())\n",
    "    R_train[int(a[0]) - 1][int(a[1]) - 1] = int(a[2])\n",
    "    \n",
    "for i in range(0, 20000):\n",
    "    a = R_s[i].split(\"\\t\".encode())\n",
    "    R_test[int(a[0]) - 1][int(a[1]) - 1] = int(a[2])\n",
    "    \n",
    "P, Q, L_validation = matrix_factorization(R_train, 5, R_test)\n",
    "plt.plot(L_validation)\n",
    "plt.ylabel('loss')\n",
    "plt.show()\n",
    "\n",
    "\n",
    "\n"
   ]
  }
 ],
 "metadata": {
  "kernelspec": {
   "display_name": "Python 3",
   "language": "python",
   "name": "python3"
  },
  "language_info": {
   "codemirror_mode": {
    "name": "ipython",
    "version": 3
   },
   "file_extension": ".py",
   "mimetype": "text/x-python",
   "name": "python",
   "nbconvert_exporter": "python",
   "pygments_lexer": "ipython3",
   "version": "3.6.3"
  }
 },
 "nbformat": 4,
 "nbformat_minor": 2
}
